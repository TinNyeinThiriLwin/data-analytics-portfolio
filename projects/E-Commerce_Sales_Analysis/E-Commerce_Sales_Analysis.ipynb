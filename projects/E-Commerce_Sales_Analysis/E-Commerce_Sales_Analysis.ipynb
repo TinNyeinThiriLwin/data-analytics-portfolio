{
 "cells": [
  {
   "cell_type": "code",
   "execution_count": 3,
   "id": "0fb79026-b6e1-4f0e-bb22-1e6c53c2fc14",
   "metadata": {},
   "outputs": [],
   "source": [
    "# Hypothesis Testing: Spending on Spike Days vs Non-Spike Days\n",
    "\n",
    "import pandas as pd\n",
    "from scipy import stats\n",
    "import matplotlib.pyplot as plt\n",
    "import seaborn as sns\n"
   ]
  },
  {
   "cell_type": "code",
   "execution_count": 4,
   "id": "13727866-8215-42d3-9177-a4b59804c65a",
   "metadata": {},
   "outputs": [],
   "source": [
    "\n",
    "# Load \n",
    "df = pd.read_csv('T976894.cleaned_sales_data.csv')  # Adjust filename if needed\n"
   ]
  },
  {
   "cell_type": "code",
   "execution_count": 5,
   "id": "61058517-685b-4c4e-a200-c6f74338d977",
   "metadata": {},
   "outputs": [],
   "source": [
    "\n",
    "# date column to datetime\n",
    "df['order_date'] = pd.to_datetime(df['order_date'])\n",
    "\n"
   ]
  },
  {
   "cell_type": "code",
   "execution_count": 6,
   "id": "b81070b3-540b-4e3e-ab85-c54caa9df890",
   "metadata": {},
   "outputs": [],
   "source": [
    "# 'spike_day' flag \n",
    "spike_dates = ['2024-12-07', '2024-12-25', '2025-01-26', '2025-02-14']\n",
    "df['spike_day'] = df['order_date'].dt.date.astype(str).isin(spike_dates)\n",
    "\n"
   ]
  },
  {
   "cell_type": "code",
   "execution_count": 7,
   "id": "ec442326-58c3-4d93-92d9-2e8cd0424f7a",
   "metadata": {},
   "outputs": [],
   "source": [
    "# total price\n",
    "df['total_amount'] = df['quantity'] * df['product_price']\n",
    "\n"
   ]
  },
  {
   "cell_type": "code",
   "execution_count": 8,
   "id": "dccdb420-dc25-4728-b3f6-aca4405aeb8c",
   "metadata": {},
   "outputs": [],
   "source": [
    "# Group the sales into two sets\n",
    "spike_day_sales = df[df['spike_day'] == True]['total_amount']\n",
    "non_spike_day_sales = df[df['spike_day'] == False]['total_amount']\n"
   ]
  },
  {
   "cell_type": "code",
   "execution_count": 9,
   "id": "d28f94e1-14c3-46ff-8b10-97c4c4cba40e",
   "metadata": {},
   "outputs": [],
   "source": [
    "\n",
    "# Run two-sample t-test (independent)\n",
    "t_stat, p_value = stats.ttest_ind(spike_day_sales, non_spike_day_sales, equal_var=False)\n",
    "\n"
   ]
  },
  {
   "cell_type": "code",
   "execution_count": 10,
   "id": "0b35cfc7-e0f1-45f8-aa95-1311b4534f91",
   "metadata": {},
   "outputs": [
    {
     "name": "stdout",
     "output_type": "stream",
     "text": [
      "T-test Result:\n",
      "t-statistic: 1.90\n",
      "p-value: 0.0594\n"
     ]
    }
   ],
   "source": [
    "#the result\n",
    "print(\"T-test Result:\")\n",
    "print(f\"t-statistic: {t_stat:.2f}\")\n",
    "print(f\"p-value: {p_value:.4f}\")\n"
   ]
  },
  {
   "cell_type": "code",
   "execution_count": 11,
   "id": "24ed7967-59b2-42f4-a937-0d6f027c8e0f",
   "metadata": {},
   "outputs": [
    {
     "name": "stdout",
     "output_type": "stream",
     "text": [
      "❌ No statistically significant difference in spending detected.\n"
     ]
    }
   ],
   "source": [
    "\n",
    "# Interpret the result\n",
    "alpha = 0.05\n",
    "if p_value < alpha:\n",
    "    print(\"✅ There is a statistically significant difference in spending on spike days.\")\n",
    "else:\n",
    "    print(\"❌ No statistically significant difference in spending detected.\")\n"
   ]
  },
  {
   "cell_type": "code",
   "execution_count": null,
   "id": "eb20110b-ccb4-4741-98d2-b7a1430bb8a4",
   "metadata": {},
   "outputs": [],
   "source": []
  }
 ],
 "metadata": {
  "kernelspec": {
   "display_name": "Python 3 (ipykernel)",
   "language": "python",
   "name": "python3"
  },
  "language_info": {
   "codemirror_mode": {
    "name": "ipython",
    "version": 3
   },
   "file_extension": ".py",
   "mimetype": "text/x-python",
   "name": "python",
   "nbconvert_exporter": "python",
   "pygments_lexer": "ipython3",
   "version": "3.12.7"
  }
 },
 "nbformat": 4,
 "nbformat_minor": 5
}
